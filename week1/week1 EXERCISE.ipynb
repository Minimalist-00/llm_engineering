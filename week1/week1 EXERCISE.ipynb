{
 "cells": [
  {
   "cell_type": "markdown",
   "id": "fe12c203-e6a6-452c-a655-afb8a03a4ff5",
   "metadata": {},
   "source": [
    "# End of week 1 exercise\n",
    "\n",
    "OpenAI APIとOllamaに慣れていることを証明するために、技術的な質問を受け取って説明で回答するツールを作ってね。これはコース中に君自身が使えるツールになるよ！"
   ]
  },
  {
   "cell_type": "code",
   "execution_count": 6,
   "id": "c1070317-3ed9-4659-abe3-828943230e03",
   "metadata": {},
   "outputs": [],
   "source": [
    "# imports\n",
    "\n",
    "import os\n",
    "import requests\n",
    "from dotenv import load_dotenv\n",
    "from IPython.display import Markdown, display, update_display\n",
    "from openai import OpenAI"
   ]
  },
  {
   "cell_type": "code",
   "execution_count": 7,
   "id": "4a456906-915a-4bfd-bb9d-57e505c5093f",
   "metadata": {},
   "outputs": [],
   "source": [
    "# constants\n",
    "\n",
    "MODEL_GPT = 'gpt-4o-mini'\n",
    "MODEL_LLAMA = 'llama3.2'"
   ]
  },
  {
   "cell_type": "code",
   "execution_count": 27,
   "id": "a8d7923c-5f28-4c30-8556-342d7c8497c1",
   "metadata": {},
   "outputs": [
    {
     "name": "stdout",
     "output_type": "stream",
     "text": [
      "API key looks good so far\n"
     ]
    }
   ],
   "source": [
    "# set open ai APi key\n",
    "\n",
    "load_dotenv(override=True)\n",
    "api_key = os.getenv('OPENAI_API_KEY')\n",
    "\n",
    "if api_key and api_key.startswith('sk-proj-') and len(api_key)>10:\n",
    "    print(\"API key looks good so far\")\n",
    "\n",
    "# set up environment\n",
    "\n",
    "openai = OpenAI()\n",
    "OLLAMA_API = \"http://localhost:11434/api/chat\"\n",
    "ollama_via_openai = OpenAI(base_url='http://localhost:11434/v1', api_key='ollama')"
   ]
  },
  {
   "cell_type": "code",
   "execution_count": 25,
   "id": "bdc2111a-eae7-431d-9eb1-09322e3716eb",
   "metadata": {},
   "outputs": [
    {
     "name": "stdout",
     "output_type": "stream",
     "text": [
      "\u001b[?2026h\u001b[?25l\u001b[1Gpulling manifest ⠋ \u001b[K\u001b[?25h\u001b[?2026l\u001b[?2026h\u001b[?25l\u001b[1Gpulling manifest ⠙ \u001b[K\u001b[?25h\u001b[?2026l\u001b[?2026h\u001b[?25l\u001b[1Gpulling manifest ⠹ \u001b[K\u001b[?25h\u001b[?2026l\u001b[?2026h\u001b[?25l\u001b[1Gpulling manifest ⠸ \u001b[K\u001b[?25h\u001b[?2026l\u001b[?2026h\u001b[?25l\u001b[1Gpulling manifest ⠼ \u001b[K\u001b[?25h\u001b[?2026l\u001b[?2026h\u001b[?25l\u001b[1Gpulling manifest ⠴ \u001b[K\u001b[?25h\u001b[?2026l\u001b[?2026h\u001b[?25l\u001b[1Gpulling manifest ⠦ \u001b[K\u001b[?25h\u001b[?2026l\u001b[?2026h\u001b[?25l\u001b[1Gpulling manifest ⠧ \u001b[K\u001b[?25h\u001b[?2026l\u001b[?2026h\u001b[?25l\u001b[1Gpulling manifest \u001b[K\n",
      "pulling dde5aa3fc5ff: 100% ▕██████████████████▏ 2.0 GB                         \u001b[K\n",
      "pulling 966de95ca8a6: 100% ▕██████████████████▏ 1.4 KB                         \u001b[K\n",
      "pulling fcc5a6bec9da: 100% ▕██████████████████▏ 7.7 KB                         \u001b[K\n",
      "pulling a70ff7e570d9: 100% ▕██████████████████▏ 6.0 KB                         \u001b[K\n",
      "pulling 56bb8bd477a5: 100% ▕██████████████████▏   96 B                         \u001b[K\n",
      "pulling 34bb5ab01051: 100% ▕██████████████████▏  561 B                         \u001b[K\n",
      "verifying sha256 digest \u001b[K\n",
      "writing manifest \u001b[K\n",
      "success \u001b[K\u001b[?25h\u001b[?2026l\n"
     ]
    }
   ],
   "source": [
    "# set up llama\n",
    "\n",
    "!ollama pull llama3.2"
   ]
  },
  {
   "cell_type": "code",
   "execution_count": 10,
   "id": "3f0d0137-52b0-47a8-81a8-11a90a010798",
   "metadata": {},
   "outputs": [],
   "source": [
    "# system prompt and user prompt\n",
    "\n",
    "system_prompt = \"あなたはプロの開発者です。質問に対して日本語で回答してください。\"\n",
    "\n",
    "question = \"\"\"\n",
    "Please explain what this code does and why:\n",
    "yield from {book.get(\"author\") for book in books if book.get(\"author\")}\n",
    "\"\"\""
   ]
  },
  {
   "cell_type": "code",
   "execution_count": 28,
   "id": "cc3da3da-269f-4496-b5d3-fb1ebe782ef5",
   "metadata": {},
   "outputs": [],
   "source": [
    "def create_answer(model, ai):\n",
    "    stream = ai.chat.completions.create(\n",
    "        model = model,\n",
    "        messages = [\n",
    "            {\"role\": \"system\", \"content\": system_prompt},\n",
    "            {\"role\": \"user\", \"content\": question},\n",
    "        ],\n",
    "        stream=True\n",
    "    )\n",
    "\n",
    "    response = \"\"\n",
    "    display_handle = display(Markdown(\"\"), display_id=True)\n",
    "    for chunk in stream:\n",
    "        response += chunk.choices[0].delta.content or ''\n",
    "        response = response.replace(\"```\",\"\").replace(\"markdown\", \"\")\n",
    "        update_display(Markdown(response), display_id=display_handle.display_id)"
   ]
  },
  {
   "cell_type": "code",
   "execution_count": 29,
   "id": "60ce7000-a4a5-4cce-a261-e75ef45063b4",
   "metadata": {},
   "outputs": [
    {
     "data": {
      "text/markdown": [
       "このコードは、Pythonにおける「ジェネレーター」を使用した構文で、特定の条件を満たす要素から新しいイテラブルを生成する目的で使用されています。以下に、コードの各部分を分解して説明します。\n",
       "\n",
       "### コードの説明\n",
       "\n",
       "1. **set comprehension** (`{... for book in books if book.get(\"author\")}`):\n",
       "   - `books`というリスト（または他のイテラブル）から要素を一つずつ取り出し、各要素を`book`という変数に格納します。\n",
       "   - `book.get(\"author\")`が真（存在する場合）である場合に限り、その`author`の値を集めて集合（`set`）を作成します。\n",
       "   - この集合は、同じ著者が複数の本に記載されている場合でも一意の著者のみを含みます。\n",
       "\n",
       "2. **yield from**:\n",
       "   - `yield from`は、特定のイテラブルオブジェクトから値を生成するための構文です。この場合、先ほど作成した集合の要素を一つずつ生成（`yield`）します。\n",
       "   - つまり、`books`の中で著者が存在する本の著者名を一つずつ返すジェネレーターとなります。\n",
       "\n",
       "### なぜこのコードが使用されるのか\n",
       "\n",
       "- **効率性**: `yield from`を使用することで、全ての著者を一度にリストとして返すのではなく、必要に応じて一つずつ返すことができ、メモリの使用量が少なくて済みます。\n",
       "- **一意性**: セットを用いることで、重複する著者名を自動的に排除します。\n",
       "- **可読性**: コードが簡潔で、何を意図しているかが分かりやすいです。\n",
       "\n",
       "このコードは、主に本のリストから著者を集めた際に、一意の著者名を効率よく取り出したい場合に役立ちます。"
      ],
      "text/plain": [
       "<IPython.core.display.Markdown object>"
      ]
     },
     "metadata": {},
     "output_type": "display_data"
    }
   ],
   "source": [
    "# Get gpt-4o-mini to answer, with streaming\n",
    "\n",
    "create_answer(MODEL_GPT, openai)"
   ]
  },
  {
   "cell_type": "code",
   "execution_count": 30,
   "id": "8f7c8ea8-4082-4ad0-8751-3301adcf6538",
   "metadata": {},
   "outputs": [
    {
     "data": {
      "text/markdown": [
       "このコーディングは、特定の属性となる書籍を取得するために使用されている。これには以下の点で理解できる。\n",
       "\n",
       "1. `yield from`: このキーワードは、生成子 (generator) を other への transmission に使われる。つまり、一度生成された結果を受け取ること。\n",
       "2. `itertools.chain`: この要因は一般的に、複数の可変量源を一つの可変量に結合するために使用される。但し、このコードではその名が言及されていない。\n",
       "3.`book.get(\"author\")`: この部分では書籍の各要素に対して、\n",
       "   - `book`: つまり、生成される可能性のある各要素。これは、一度生成された元となるデータセット。\n",
       "   - `get()`: 指定するカレントに存在する値が特定されれば、その値が返るメソッドである。これは、key-less dictionary の使用を示唆しているが、実際は `book` も key-less である可能性がある。\n",
       "\n",
       "つまり、このコードは次の機能を提供します。\n",
       "1. すべての書籍から \"author\" にある値が含まれているものを取得する必要があります。\n",
       "2. 複数のデータソースを処理し、特定の値が存在する要素を取り出すときに使用されるため、yield from と chains の概念に対応します。\n",
       "3. `for book in books if book.get(\"author\")` は、`book.get(\"author\")` が値 \"author\" を持つすべての book から data を取得します。\n",
       "\n",
       "これで理解していることを確認してください。"
      ],
      "text/plain": [
       "<IPython.core.display.Markdown object>"
      ]
     },
     "metadata": {},
     "output_type": "display_data"
    }
   ],
   "source": [
    "# Get Llama 3.2 to answer\n",
    "\n",
    "create_answer(MODEL_LLAMA, ollama_via_openai)"
   ]
  }
 ],
 "metadata": {
  "kernelspec": {
   "display_name": "Python 3 (ipykernel)",
   "language": "python",
   "name": "python3"
  },
  "language_info": {
   "codemirror_mode": {
    "name": "ipython",
    "version": 3
   },
   "file_extension": ".py",
   "mimetype": "text/x-python",
   "name": "python",
   "nbconvert_exporter": "python",
   "pygments_lexer": "ipython3",
   "version": "3.11.13"
  }
 },
 "nbformat": 4,
 "nbformat_minor": 5
}
