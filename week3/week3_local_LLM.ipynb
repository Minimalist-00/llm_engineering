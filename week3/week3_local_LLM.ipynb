{
 "cells": [
  {
   "cell_type": "markdown",
   "id": "c98e7c2f-b086-41ae-ab1b-8226f71a1ff6",
   "metadata": {},
   "source": [
    "## このノートブックの説明\n",
    "\n",
    "google colabで実行していたday5の環境をローカル（jupyter notebook）から実行できるようにする\n",
    "\n",
    "つまり、ローカルのGPUを使う。\n",
    "\n",
    "保留"
   ]
  },
  {
   "cell_type": "code",
   "execution_count": null,
   "id": "edb93b0f-2ebc-4b17-b545-28e5531b3dd5",
   "metadata": {},
   "outputs": [],
   "source": []
  }
 ],
 "metadata": {
  "kernelspec": {
   "display_name": "Python 3 (ipykernel)",
   "language": "python",
   "name": "python3"
  },
  "language_info": {
   "codemirror_mode": {
    "name": "ipython",
    "version": 3
   },
   "file_extension": ".py",
   "mimetype": "text/x-python",
   "name": "python",
   "nbconvert_exporter": "python",
   "pygments_lexer": "ipython3",
   "version": "3.11.13"
  }
 },
 "nbformat": 4,
 "nbformat_minor": 5
}
